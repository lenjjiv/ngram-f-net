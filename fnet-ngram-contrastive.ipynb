{
 "cells": [
  {
   "cell_type": "code",
   "execution_count": null,
   "metadata": {},
   "outputs": [
    {
     "data": {
      "text/plain": [
       "FNetForMaskedLM(\n",
       "  (fnet): FNetModel(\n",
       "    (embeddings): FNetEmbeddings(\n",
       "      (word_embeddings): Embedding(1000, 24, padding_idx=3)\n",
       "      (position_embeddings): Embedding(512, 24)\n",
       "      (token_type_embeddings): Embedding(4, 24)\n",
       "      (LayerNorm): LayerNorm((24,), eps=1e-12, elementwise_affine=True)\n",
       "      (projection): Linear(in_features=24, out_features=24, bias=True)\n",
       "      (dropout): Dropout(p=0.1, inplace=False)\n",
       "    )\n",
       "    (encoder): FNetEncoder(\n",
       "      (layer): ModuleList(\n",
       "        (0-11): 12 x FNetLayer(\n",
       "          (fourier): FNetFourierTransform(\n",
       "            (self): FNetBasicFourierTransform()\n",
       "            (output): FNetBasicOutput(\n",
       "              (LayerNorm): LayerNorm((24,), eps=1e-12, elementwise_affine=True)\n",
       "            )\n",
       "          )\n",
       "          (intermediate): FNetIntermediate(\n",
       "            (dense): Linear(in_features=24, out_features=3072, bias=True)\n",
       "            (intermediate_act_fn): NewGELUActivation()\n",
       "          )\n",
       "          (output): FNetOutput(\n",
       "            (dense): Linear(in_features=3072, out_features=24, bias=True)\n",
       "            (LayerNorm): LayerNorm((24,), eps=1e-12, elementwise_affine=True)\n",
       "            (dropout): Dropout(p=0.1, inplace=False)\n",
       "          )\n",
       "        )\n",
       "      )\n",
       "    )\n",
       "    (pooler): FNetPooler(\n",
       "      (dense): Linear(in_features=24, out_features=24, bias=True)\n",
       "      (activation): Tanh()\n",
       "    )\n",
       "  )\n",
       "  (cls): FNetOnlyMLMHead(\n",
       "    (predictions): FNetLMPredictionHead(\n",
       "      (transform): FNetPredictionHeadTransform(\n",
       "        (dense): Linear(in_features=24, out_features=24, bias=True)\n",
       "        (transform_act_fn): NewGELUActivation()\n",
       "        (LayerNorm): LayerNorm((24,), eps=1e-12, elementwise_affine=True)\n",
       "      )\n",
       "      (decoder): Linear(in_features=24, out_features=1000, bias=True)\n",
       "    )\n",
       "  )\n",
       ")"
      ]
     },
     "execution_count": 7,
     "metadata": {},
     "output_type": "execute_result"
    }
   ],
   "source": [
    "import transformers\n",
    "import torch.nn as nn\n",
    "\n",
    "# Инициализируем случайный F-Net\n",
    "config = transformers.FNetConfig(\n",
    "    vocab_size=1000,\n",
    "    hidden_size=24,\n",
    "    num_hidden_layers=12,\n",
    "    num_attention_heads=8,\n",
    ")\n",
    "\n",
    "fnet_model = transformers.FNetForMaskedLM(config)\n",
    "fnet_model"
   ]
  },
  {
   "cell_type": "code",
   "execution_count": null,
   "metadata": {},
   "outputs": [],
   "source": []
  }
 ],
 "metadata": {
  "kernelspec": {
   "display_name": "base",
   "language": "python",
   "name": "python3"
  },
  "language_info": {
   "codemirror_mode": {
    "name": "ipython",
    "version": 3
   },
   "file_extension": ".py",
   "mimetype": "text/x-python",
   "name": "python",
   "nbconvert_exporter": "python",
   "pygments_lexer": "ipython3",
   "version": "3.9.21"
  }
 },
 "nbformat": 4,
 "nbformat_minor": 2
}
